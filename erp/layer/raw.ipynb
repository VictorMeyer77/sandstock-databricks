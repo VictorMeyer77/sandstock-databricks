{
 "cells": [
  {
   "cell_type": "code",
   "execution_count": 0,
   "metadata": {
    "application/vnd.databricks.v1+cell": {
     "cellMetadata": {
      "byteLimit": 2048000,
      "rowLimit": 10000
     },
     "inputWidgets": {},
     "nuid": "4686ef98-1f1c-40ff-937f-27b5372137c4",
     "showTitle": false,
     "tableResultSettingsMap": {},
     "title": ""
    }
   },
   "outputs": [],
   "source": [
    "CREATE DATABASE IF NOT EXISTS erp_raw"
   ]
  },
  {
   "cell_type": "code",
   "execution_count": 0,
   "metadata": {
    "application/vnd.databricks.v1+cell": {
     "cellMetadata": {
      "byteLimit": 2048000,
      "rowLimit": 10000
     },
     "inputWidgets": {},
     "nuid": "5d1bfbf0-c856-44b9-8629-77dc33e9b4d3",
     "showTitle": false,
     "tableResultSettingsMap": {},
     "title": ""
    }
   },
   "outputs": [],
   "source": [
    "CREATE OR REPLACE TABLE erp_raw.dim_product AS\n",
    "SELECT\n",
    "  input_file_name() AS file_name,\n",
    "  *\n",
    "FROM\n",
    "  parquet.`abfss://raw@devsandstocksto.dfs.core.windows.net/erp/dim_product`"
   ]
  },
  {
   "cell_type": "code",
   "execution_count": 0,
   "metadata": {
    "application/vnd.databricks.v1+cell": {
     "cellMetadata": {
      "byteLimit": 2048000,
      "rowLimit": 10000
     },
     "inputWidgets": {},
     "nuid": "21e4ef74-3b45-48e9-8e5e-7b5c834c3fd2",
     "showTitle": false,
     "tableResultSettingsMap": {},
     "title": ""
    }
   },
   "outputs": [],
   "source": [
    "CREATE OR REPLACE TABLE erp_raw.dim_partner AS\n",
    "SELECT\n",
    "  input_file_name() AS file_name,\n",
    "  *\n",
    "FROM\n",
    "  parquet.`abfss://raw@devsandstocksto.dfs.core.windows.net/erp/dim_partner`"
   ]
  },
  {
   "cell_type": "code",
   "execution_count": 0,
   "metadata": {
    "application/vnd.databricks.v1+cell": {
     "cellMetadata": {
      "byteLimit": 2048000,
      "rowLimit": 10000
     },
     "inputWidgets": {},
     "nuid": "15edf1ca-61f8-4243-82fa-2aec2a425ea8",
     "showTitle": false,
     "tableResultSettingsMap": {},
     "title": ""
    }
   },
   "outputs": [],
   "source": [
    "CREATE OR REPLACE TABLE erp_raw.dim_warehouse AS\n",
    "SELECT\n",
    "  input_file_name() AS file_name,\n",
    "  *\n",
    "FROM\n",
    "  parquet.`abfss://raw@devsandstocksto.dfs.core.windows.net/erp/dim_warehouse`"
   ]
  },
  {
   "cell_type": "code",
   "execution_count": 0,
   "metadata": {
    "application/vnd.databricks.v1+cell": {
     "cellMetadata": {
      "byteLimit": 2048000,
      "rowLimit": 10000
     },
     "inputWidgets": {},
     "nuid": "9e11a7ca-ae23-4e2d-b599-ed95a7be529e",
     "showTitle": false,
     "tableResultSettingsMap": {},
     "title": ""
    }
   },
   "outputs": [],
   "source": [
    "CREATE OR REPLACE TABLE erp_raw.fact_order AS\n",
    "SELECT\n",
    "  input_file_name() AS file_name,\n",
    "  *\n",
    "FROM\n",
    "  parquet.`abfss://raw@devsandstocksto.dfs.core.windows.net/erp/fact_order`"
   ]
  }
 ],
 "metadata": {
  "application/vnd.databricks.v1+notebook": {
   "computePreferences": null,
   "dashboards": [],
   "environmentMetadata": {
    "base_environment": "",
    "environment_version": "2"
   },
   "inputWidgetPreferences": null,
   "language": "sql",
   "notebookMetadata": {
    "pythonIndentUnit": 4
   },
   "notebookName": "raw",
   "widgets": {}
  },
  "language_info": {
   "name": "sql"
  }
 },
 "nbformat": 4,
 "nbformat_minor": 0
}
