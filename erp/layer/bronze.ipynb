{
 "cells": [
  {
   "cell_type": "code",
   "execution_count": 0,
   "metadata": {
    "application/vnd.databricks.v1+cell": {
     "cellMetadata": {
      "byteLimit": 2048000,
      "rowLimit": 10000
     },
     "inputWidgets": {},
     "nuid": "1c6edd08-d753-4503-b197-990fa97704fa",
     "showTitle": false,
     "tableResultSettingsMap": {},
     "title": ""
    }
   },
   "outputs": [],
   "source": [
    "CREATE DATABASE IF NOT EXISTS erp_brz"
   ]
  },
  {
   "cell_type": "code",
   "execution_count": 0,
   "metadata": {
    "application/vnd.databricks.v1+cell": {
     "cellMetadata": {
      "byteLimit": 2048000,
      "rowLimit": 10000
     },
     "inputWidgets": {},
     "nuid": "c8063046-c2e7-4760-8a2d-4fb189f12985",
     "showTitle": false,
     "tableResultSettingsMap": {},
     "title": ""
    }
   },
   "outputs": [],
   "source": [
    "CREATE OR REPLACE TABLE erp_brz.dim_product AS\n",
    "SELECT\n",
    "  *,\n",
    "  TO_DATE(regexp_extract(file_name, '(\\\\d{4}_\\\\d{2}_\\\\d{2})', 1), \"yyyy_MM_dd\") AS raw_file_date\n",
    "FROM\n",
    "  erp_raw.dim_product\n",
    "WHERE\n",
    "  file_name = (\n",
    "    SELECT\n",
    "      MAX(file_name)\n",
    "    FROM\n",
    "      erp_raw.dim_product\n",
    "  )"
   ]
  },
  {
   "cell_type": "code",
   "execution_count": 0,
   "metadata": {
    "application/vnd.databricks.v1+cell": {
     "cellMetadata": {
      "byteLimit": 2048000,
      "rowLimit": 10000
     },
     "inputWidgets": {},
     "nuid": "b81e7f65-0ab3-4f6c-893f-e7ad036e94ea",
     "showTitle": false,
     "tableResultSettingsMap": {},
     "title": ""
    }
   },
   "outputs": [],
   "source": [
    "CREATE OR REPLACE TABLE erp_brz.dim_partner AS\n",
    "SELECT\n",
    "  *,\n",
    "  TO_DATE(regexp_extract(file_name, '(\\\\d{4}_\\\\d{2}_\\\\d{2})', 1), \"yyyy_MM_dd\") AS raw_file_date\n",
    "FROM\n",
    "  erp_raw.dim_partner\n",
    "WHERE\n",
    "  file_name = (\n",
    "    SELECT\n",
    "      MAX(file_name)\n",
    "    FROM\n",
    "      erp_raw.dim_partner\n",
    "  )"
   ]
  },
  {
   "cell_type": "code",
   "execution_count": 0,
   "metadata": {
    "application/vnd.databricks.v1+cell": {
     "cellMetadata": {
      "byteLimit": 2048000,
      "rowLimit": 10000
     },
     "inputWidgets": {},
     "nuid": "a22f963e-d87b-4566-9a7b-bd5b474ee2a3",
     "showTitle": false,
     "tableResultSettingsMap": {},
     "title": ""
    }
   },
   "outputs": [],
   "source": [
    "CREATE OR REPLACE TABLE erp_brz.dim_warehouse AS\n",
    "SELECT\n",
    "  *,\n",
    "  TO_DATE(regexp_extract(file_name, '(\\\\d{4}_\\\\d{2}_\\\\d{2})', 1), \"yyyy_MM_dd\") AS raw_file_date\n",
    "FROM\n",
    "  erp_raw.dim_warehouse\n",
    "WHERE\n",
    "  file_name = (\n",
    "    SELECT\n",
    "      MAX(file_name)\n",
    "    FROM\n",
    "      erp_raw.dim_warehouse\n",
    "  )"
   ]
  },
  {
   "cell_type": "code",
   "execution_count": 0,
   "metadata": {
    "application/vnd.databricks.v1+cell": {
     "cellMetadata": {
      "byteLimit": 2048000,
      "rowLimit": 10000
     },
     "inputWidgets": {},
     "nuid": "af08366e-99d0-4b79-ae41-a97cf34adcbe",
     "showTitle": false,
     "tableResultSettingsMap": {},
     "title": ""
    }
   },
   "outputs": [],
   "source": [
    "CREATE OR REPLACE TABLE erp_brz.fact_order AS\n",
    "SELECT DISTINCT\n",
    "  *,\n",
    "  TO_DATE(regexp_extract(file_name, '(\\\\d{4}_\\\\d{2}_\\\\d{2})', 1), \"yyyy_MM_dd\") AS raw_file_date\n",
    "FROM\n",
    "  erp_raw.fact_order"
   ]
  }
 ],
 "metadata": {
  "application/vnd.databricks.v1+notebook": {
   "computePreferences": null,
   "dashboards": [],
   "environmentMetadata": {
    "base_environment": "",
    "environment_version": "2"
   },
   "inputWidgetPreferences": null,
   "language": "sql",
   "notebookMetadata": {
    "pythonIndentUnit": 4
   },
   "notebookName": "bronze",
   "widgets": {
    "env": {
     "currentValue": "dev",
     "nuid": "48a2b14b-795d-4b38-aec1-c6cce6550515",
     "typedWidgetInfo": {
      "autoCreated": false,
      "defaultValue": "dev",
      "label": null,
      "name": "env",
      "options": {
       "widgetDisplayType": "Dropdown",
       "choices": [
        "dev",
        "pro"
       ],
       "fixedDomain": true,
       "multiselect": false
      },
      "parameterDataType": "String"
     },
     "widgetInfo": {
      "widgetType": "dropdown",
      "defaultValue": "dev",
      "label": null,
      "name": "env",
      "options": {
       "widgetType": "dropdown",
       "autoCreated": null,
       "choices": [
        "dev",
        "pro"
       ]
      }
     }
    }
   }
  },
  "language_info": {
   "name": "sql"
  }
 },
 "nbformat": 4,
 "nbformat_minor": 0
}
