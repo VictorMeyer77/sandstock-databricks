{
 "cells": [
  {
   "cell_type": "code",
   "execution_count": 0,
   "metadata": {
    "application/vnd.databricks.v1+cell": {
     "cellMetadata": {
      "byteLimit": 2048000,
      "rowLimit": 10000
     },
     "inputWidgets": {},
     "nuid": "c3816bbf-d144-44ed-8588-add8b41b088c",
     "showTitle": false,
     "tableResultSettingsMap": {},
     "title": ""
    }
   },
   "outputs": [],
   "source": [
    "CREATE DATABASE IF NOT EXISTS erp_svr"
   ]
  },
  {
   "cell_type": "code",
   "execution_count": 0,
   "metadata": {
    "application/vnd.databricks.v1+cell": {
     "cellMetadata": {
      "byteLimit": 2048000,
      "rowLimit": 10000
     },
     "inputWidgets": {},
     "nuid": "660240e8-e970-493b-881e-0eb3ea601569",
     "showTitle": false,
     "tableResultSettingsMap": {},
     "title": ""
    }
   },
   "outputs": [],
   "source": [
    "CREATE OR REPLACE TABLE erp_svr.dim_product AS\n",
    "SELECT\n",
    "  file_name,\n",
    "  id,\n",
    "  TRIM(UPPER(name)) AS name,\n",
    "  TRIM(UPPER(category_label)) AS category_label,\n",
    "  description,\n",
    "  quantity_available,\n",
    "  created_at,\n",
    "  updated_at,\n",
    "  LOWER(modified_by) AS modified_by,\n",
    "  raw_file_date\n",
    "FROM\n",
    "  erp_brz.dim_product\n",
    "WHERE\n",
    "  deleted = false"
   ]
  },
  {
   "cell_type": "code",
   "execution_count": 0,
   "metadata": {
    "application/vnd.databricks.v1+cell": {
     "cellMetadata": {
      "byteLimit": 2048000,
      "rowLimit": 10000
     },
     "inputWidgets": {},
     "nuid": "af931755-e7e2-45ec-9dc2-c555bb47c796",
     "showTitle": false,
     "tableResultSettingsMap": {},
     "title": ""
    }
   },
   "outputs": [],
   "source": [
    "CREATE OR REPLACE TABLE erp_svr.dim_partner AS\n",
    "SELECT\n",
    "  file_name,\n",
    "  id,\n",
    "  TRIM(UPPER(name)) AS name,\n",
    "  TRIM(UPPER(contact_person)) AS contact_person,\n",
    "  address_id,\n",
    "  contact_id,\n",
    "  created_at,\n",
    "  updated_at,\n",
    "  LOWER(modified_by) AS modified_by,\n",
    "  raw_file_date\n",
    "FROM\n",
    "  erp_brz.dim_partner\n",
    "WHERE\n",
    "  deleted = false"
   ]
  },
  {
   "cell_type": "code",
   "execution_count": 0,
   "metadata": {
    "application/vnd.databricks.v1+cell": {
     "cellMetadata": {
      "byteLimit": 2048000,
      "rowLimit": 10000
     },
     "inputWidgets": {},
     "nuid": "1b0946c1-83c1-4a9d-acb0-05563f943715",
     "showTitle": false,
     "tableResultSettingsMap": {},
     "title": ""
    }
   },
   "outputs": [],
   "source": [
    "CREATE OR REPLACE TABLE erp_svr.dim_warehouse AS\n",
    "SELECT\n",
    "  file_name,\n",
    "  id,\n",
    "  TRIM(UPPER(name)) AS name,\n",
    "  address_id,\n",
    "  contact_id,\n",
    "  created_at,\n",
    "  updated_at,\n",
    "  LOWER(modified_by) AS modified_by,\n",
    "  raw_file_date\n",
    "FROM\n",
    "  erp_brz.dim_warehouse\n",
    "WHERE\n",
    "  deleted = false"
   ]
  },
  {
   "cell_type": "code",
   "execution_count": 0,
   "metadata": {
    "application/vnd.databricks.v1+cell": {
     "cellMetadata": {
      "byteLimit": 2048000,
      "rowLimit": 10000
     },
     "inputWidgets": {},
     "nuid": "b395c173-7f82-4bfb-ab6d-472e6e49d5b5",
     "showTitle": false,
     "tableResultSettingsMap": {},
     "title": ""
    }
   },
   "outputs": [],
   "source": [
    "CREATE OR REPLACE TABLE erp_svr.fact_order AS\n",
    "SELECT\n",
    "  file_name,\n",
    "  id,\n",
    "  category,\n",
    "  product_id,\n",
    "  partner_id,\n",
    "  warehouse_id,\n",
    "  quantity,\n",
    "  unit_price,\n",
    "  currency,\n",
    "  created_at,\n",
    "  LOWER(modified_by) AS modified_by,\n",
    "  raw_file_date\n",
    "FROM\n",
    "  erp_brz.fact_order"
   ]
  }
 ],
 "metadata": {
  "application/vnd.databricks.v1+notebook": {
   "computePreferences": null,
   "dashboards": [],
   "environmentMetadata": {
    "base_environment": "",
    "environment_version": "2"
   },
   "inputWidgetPreferences": null,
   "language": "sql",
   "notebookMetadata": {
    "pythonIndentUnit": 4
   },
   "notebookName": "silver",
   "widgets": {}
  },
  "language_info": {
   "name": "sql"
  }
 },
 "nbformat": 4,
 "nbformat_minor": 0
}
